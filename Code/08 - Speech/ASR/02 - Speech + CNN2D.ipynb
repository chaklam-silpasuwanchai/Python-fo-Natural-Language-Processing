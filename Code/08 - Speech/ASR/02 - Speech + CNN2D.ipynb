{
 "cells": [
  {
   "cell_type": "markdown",
   "id": "8ef60fbf-c54f-4a45-b317-b339063f70fa",
   "metadata": {},
   "source": [
    "# Speech Classifcation + CNN 2D with torch Audio"
   ]
  },
  {
   "cell_type": "markdown",
   "id": "94d39e8b-c8bb-42a6-aed8-bd6eb33c8899",
   "metadata": {},
   "source": [
    "## Signals\n",
    "A signal is a variation in a certain quantity over time. For audio, the quantity that varies is air pressure. How do we capture this information digitally? We can take samples of the air pressure over time. The rate at which we sample the data can vary, but is most commonly 44.1kHz, or 44,100 samples per second. What we have captured is a waveform for the signal, and this can be interpreted, modified, and analyzed with computer software."
   ]
  },
  {
   "cell_type": "markdown",
   "id": "0f1072c3-b784-4188-a239-47890dce48a2",
   "metadata": {},
   "source": [
    "## The Fourier Transform\n",
    "\n",
    "The Fourier transform is a mathematical tool that decomposes a complex signal into its constituent sine waves. Although an audio signal is built from multiple single-frequency tones, the time-domain recording only captures their combined amplitudes. By applying the `Fourier transform`, we convert this `time-domain data` into the `frequency domain`, revealing the individual frequencies and their amplitudes—a representation known as the `spectrum`.\n",
    "\n",
    "The fast Fourier transform (FFT) is an algorithm that can efficiently compute the Fourier transform. It is widely used in signal processing. I will use this algorithm on a windowed segment of our example audio.\n",
    "\n",
    "<img src=\"../figures/FT.webp\" >"
   ]
  },
  {
   "cell_type": "markdown",
   "id": "cfe1ef21-07a6-4702-bf41-95a123964890",
   "metadata": {},
   "source": [
    "## The Spectrogram\n",
    "\n",
    "The fast Fourier transform (FFT) is excellent for revealing the frequency content of a signal. However, many real-world signals—like music or speech—change over time, meaning their frequency content isn’t constant. These are known as non-periodic signals. To capture how the spectrum evolves, we divide the signal into overlapping, windowed segments and perform an FFT on each one. This method, known as the short-time Fourier transform, produces a sequence of spectra that, when displayed together, form a spectrogram—a visual representation of the frequency changes over time.\n",
    "\n",
    "<img src=\"../figures/Spectrogram.webp\" >"
   ]
  },
  {
   "cell_type": "markdown",
   "id": "d88f8f6d-50de-4730-9309-c2534fcc9783",
   "metadata": {},
   "source": [
    "## The Mel Scale\n",
    "\n",
    "Humans don't perceive frequencies linearly; our ears are more sensitive to changes at lower frequencies than at higher ones. For instance, while the difference between 500 Hz and 1000 Hz is quite noticeable, a similar gap between 10,000 Hz and 10,500 Hz is hardly detectable. In 1937, Stevens, Volkmann, and Newmann introduced a pitch unit where equal intervals in pitch sounded equally spaced to the listener. This concept is known as the mel scale, and we convert standard frequencies to the mel scale through a mathematical transformation.\n",
    "\n",
    "<img src=\"../figures/MelScale.gif\" >"
   ]
  },
  {
   "cell_type": "markdown",
   "id": "a53f4f07-adac-4ac8-947c-4821f15548e2",
   "metadata": {},
   "source": [
    "## MFCC vs Mel Spectrogram: A Quick Comparison\n",
    "\n",
    "**Mel Spectrogram**:\n",
    "- A time-frequency representation of audio.\n",
    "- Uses **Fourier Transform** and a **Mel filter bank** to map frequencies to the Mel scale.\n",
    "- Often applies **logarithmic scaling** for amplitude.\n",
    "- Useful for tasks like sound classification and speech recognition where detailed time-frequency info is needed.\n",
    "\n",
    "**MFCC (Mel-Frequency Cepstral Coefficients)**:\n",
    "- A compressed version of the Mel Spectrogram.\n",
    "- Derived by applying a **Discrete Cosine Transform (DCT)** after Mel scaling.\n",
    "- Focuses on capturing **speech-related features** while reducing dimensionality.\n",
    "- Common in **speech recognition** and audio classification.\n",
    "\n",
    "**Key Differences**:\n",
    "1. **Representation**: \n",
    "   - **Mel Spectrogram**: Detailed time-frequency map.\n",
    "   - **MFCC**: Compact, feature-rich coefficients.\n",
    "   \n",
    "2. **Application**:\n",
    "   - **Mel Spectrogram**: Used for tasks needing time-frequency details (e.g., sound event detection).\n",
    "   - **MFCC**: Used for tasks needing compact features (e.g., speech recognition).\n",
    "\n",
    "3. **Dimensionality**:\n",
    "   - **Mel Spectrogram**: Higher-dimensional.\n",
    "   - **MFCC**: Lower-dimensional, more efficient.\n",
    "\n",
    "**Summary**: Use **Mel Spectrograms** for detailed frequency analysis and **MFCCs** for more efficient feature extraction in speech or audio recognition tasks."
   ]
  },
  {
   "cell_type": "code",
   "execution_count": 1,
   "id": "1b544f01-d76a-43f9-b79e-546dceb386e5",
   "metadata": {},
   "outputs": [],
   "source": [
    "# pip install torchaudio\n",
    "# pip install librosa"
   ]
  },
  {
   "cell_type": "code",
   "execution_count": 2,
   "id": "9dcb44fd-e201-4cde-89f3-f0368943d4f0",
   "metadata": {},
   "outputs": [
    {
     "data": {
      "text/plain": [
       "device(type='cuda')"
      ]
     },
     "execution_count": 2,
     "metadata": {},
     "output_type": "execute_result"
    }
   ],
   "source": [
    "import torch\n",
    "import torch.nn as nn\n",
    "import torch.nn.functional as F\n",
    "import torch.optim as optim\n",
    "import torchaudio\n",
    "import sys\n",
    "import matplotlib.pyplot as plt\n",
    "import IPython.display as ipd\n",
    "from IPython.display import Audio\n",
    "import os\n",
    "from tqdm import tqdm\n",
    "import torchaudio.transforms as T\n",
    "from torch.utils.data import DataLoader, random_split, Dataset\n",
    "# Set GPU device\n",
    "os.environ[\"CUDA_VISIBLE_DEVICES\"] = \"1\"\n",
    "\n",
    "os.environ['http_proxy']  = 'http://192.41.170.23:3128'\n",
    "os.environ['https_proxy'] = 'http://192.41.170.23:3128'\n",
    "\n",
    "device = torch.device(\"cuda\" if torch.cuda.is_available() else \"cpu\")\n",
    "device"
   ]
  },
  {
   "cell_type": "markdown",
   "id": "06af4d08-021a-4291-a836-a1c3e98a40a7",
   "metadata": {},
   "source": [
    "## Dataset"
   ]
  },
  {
   "cell_type": "code",
   "execution_count": 3,
   "id": "c8aa214c-78fe-4ca0-9124-ee3bfbb544da",
   "metadata": {},
   "outputs": [],
   "source": [
    "dataset = torchaudio.datasets.SPEECHCOMMANDS(\n",
    "    './datasets/', \n",
    "    url = 'speech_commands_v0.02', \n",
    "    folder_in_archive = 'SpeechCommands',  \n",
    "    download = True\n",
    ")\n",
    "# FYI : Speech Commands is an audio dataset of spoken words designed to help train and evaluate keyword spotting systems ."
   ]
  },
  {
   "cell_type": "code",
   "execution_count": 4,
   "id": "c74beda6-7c43-4de7-a674-488e4f8fab0c",
   "metadata": {},
   "outputs": [
    {
     "data": {
      "text/plain": [
       "('speech_commands_v0.02/backward/017c4098_nohash_0.wav',\n",
       " 16000,\n",
       " 'backward',\n",
       " '017c4098',\n",
       " 0)"
      ]
     },
     "execution_count": 4,
     "metadata": {},
     "output_type": "execute_result"
    }
   ],
   "source": [
    "dataset.get_metadata(1)"
   ]
  },
  {
   "cell_type": "code",
   "execution_count": 5,
   "id": "2a4f19a9-3ac9-4911-afcf-921e9faaaf66",
   "metadata": {},
   "outputs": [],
   "source": [
    "# len(raw_dataset)"
   ]
  },
  {
   "cell_type": "markdown",
   "id": "0e16f067-ae49-4317-bf65-a4369ba3ccbe",
   "metadata": {},
   "source": [
    "## Visualization & Pre-processing"
   ]
  },
  {
   "cell_type": "code",
   "execution_count": 6,
   "id": "b82417ac-22c2-4c57-9662-489e86cd3ce4",
   "metadata": {},
   "outputs": [
    {
     "name": "stdout",
     "output_type": "stream",
     "text": [
      "Shape of waveform: torch.Size([1, 16000])\n",
      "Sample rate of waveform: 16000\n"
     ]
    },
    {
     "data": {
      "text/html": [
       "\n",
       "                <audio  controls=\"controls\" >\n",
       "                    <source src=\"data:audio/x-wav;base64,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\" type=\"audio/x-wav\" />\n",
       "                    Your browser does not support the audio element.\n",
       "                </audio>\n",
       "              "
      ],
      "text/plain": [
       "<IPython.lib.display.Audio object>"
      ]
     },
     "execution_count": 6,
     "metadata": {},
     "output_type": "execute_result"
    },
    {
     "data": {
      "image/png": "[encoded data removed]",
      "text/plain": [
       "<Figure size 640x480 with 1 Axes>"
      ]
     },
     "metadata": {},
     "output_type": "display_data"
    }
   ],
   "source": [
    "filename = \"./datasets/SpeechCommands/speech_commands_v0.02/backward/0165e0e8_nohash_0.wav\"\n",
    "waveform, sample_rate = torchaudio.load(filename, normalize=True)\n",
    "\n",
    "print(\"Shape of waveform: {}\".format(waveform.size()))\n",
    "print(\"Sample rate of waveform: {}\".format(sample_rate))\n",
    "\n",
    "plt.figure()\n",
    "plt.plot(waveform.t().numpy())\n",
    "\n",
    "# To play the audio\n",
    "Audio(filename)"
   ]
  },
  {
   "cell_type": "code",
   "execution_count": 7,
   "id": "871241a9-d548-49c2-a685-613fcf79cd20",
   "metadata": {},
   "outputs": [
    {
     "data": {
      "text/plain": [
       "42"
      ]
     },
     "execution_count": 7,
     "metadata": {},
     "output_type": "execute_result"
    }
   ],
   "source": [
    "import os\n",
    "audio_path = './datasets/SpeechCommands/speech_commands_v0.02/'\n",
    "labels_dict = os.listdir(audio_path)\n",
    "len(labels_dict)"
   ]
  },
  {
   "cell_type": "code",
   "execution_count": 8,
   "id": "e7a8aa8a-1541-475a-b777-8fcc15e4e98b",
   "metadata": {},
   "outputs": [],
   "source": [
    "wave, _, _, _, _ = dataset[50000]"
   ]
  },
  {
   "cell_type": "markdown",
   "id": "87503acc-a1c0-4160-96d7-05828c6fb446",
   "metadata": {},
   "source": [
    "### 1D vs. 2D CNN Approaches for Speech Recognition\n",
    "\n",
    "Both **1D** and **2D** convolutional neural network (CNN) approaches have their merits. The choice between them depends on your specific application, accuracy requirements, and computational constraints.\n",
    "\n",
    "---\n",
    "\n",
    "#### 2D CNNs on Spectrograms\n",
    "\n",
    "- **Richer Acoustic Information:**  \n",
    "  - Converting raw audio into time–frequency representations (such as spectrograms) captures detailed acoustic features similar to how the human ear processes sound.\n",
    "\n",
    "- **High Recognition Accuracy:**  \n",
    "  - Studies have shown that 2D CNN–LSTM networks can achieve very high recognition accuracies. For instance, one paper reported accuracies of around **95%** on the Berlin EmoDB dataset\n",
    "\n",
    "- **Ideal for Accuracy-Centric Applications:**  \n",
    "  - This approach is preferred when maximizing accuracy is the priority and the extra pre-processing (to generate spectrograms) is acceptable.\n",
    "\n",
    "---\n",
    "\n",
    "#### 1D CNNs on Raw Waveforms\n",
    "\n",
    "- **Simpler Pipeline:**  \n",
    "  - Operates directly on the raw audio signal, eliminating the need for a time–frequency transformation.\n",
    "\n",
    "- **Computational Efficiency:**  \n",
    "  - Can be more computationally efficient and may converge faster, making it ideal for real-time applications or scenarios with limited resources.\n",
    "\n",
    "- **Good for Simpler Tasks:**  \n",
    "  - Suitable when you want a less complex model that avoids the overhead of additional pre-processing.\n",
    "\n",
    "---\n",
    "\n",
    "#### Summary\n",
    "\n",
    "- **Choose 2D CNNs** if:\n",
    "  - You want to leverage detailed time–frequency information.\n",
    "  - Maximum recognition accuracy is required.\n",
    "  - You can handle the additional pre-processing overhead.\n",
    "\n",
    "- **Choose 1D CNNs** if:\n",
    "  - You need a simpler, faster, and more resource-friendly solution.\n",
    "  - Real-time processing is a priority.\n",
    "\n",
    "---\n",
    "\n",
    "*Note: The reference [🔗cite:turn0search17] points to a study that demonstrated high accuracy (95.33% and 95.89% in speaker-dependent and speaker-independent experiments, respectively) using a 2D CNN-LSTM network on speech emotion recognition tasks.*"
   ]
  },
  {
   "cell_type": "code",
   "execution_count": 9,
   "id": "f04c751f-4d61-43d5-811f-b04f402e9c76",
   "metadata": {},
   "outputs": [
    {
     "data": {
      "image/png": "[encoded data removed]",
      "text/plain": [
       "<Figure size 1000x500 with 2 Axes>"
      ]
     },
     "metadata": {},
     "output_type": "display_data"
    }
   ],
   "source": [
    "import torchaudio\n",
    "import matplotlib.pyplot as plt\n",
    "\n",
    "# Ensure that 'wave' is your audio waveform tensor.\n",
    "# For example, you might load an audio file as follows:\n",
    "# wave, sample_rate = torchaudio.load(\"your_audio_file.wav\")\n",
    "\n",
    "### 1. Compute and plot a basic Spectrogram (linear scale)\n",
    "# This uses the short-time Fourier transform (STFT) to generate a spectrogram.\n",
    "spectrogram_transform = torchaudio.transforms.Spectrogram()\n",
    "spec = spectrogram_transform(wave)\n",
    "\n",
    "plt.figure(figsize=(10, 5))\n",
    "plt.imshow(spec[0, :, :].numpy(), origin='lower', aspect='auto')\n",
    "plt.title(\"Spectrogram (Linear Scale)\")\n",
    "plt.xlabel(\"Time\")\n",
    "plt.ylabel(\"Frequency\")\n",
    "plt.colorbar()\n",
    "plt.show()"
   ]
  },
  {
   "cell_type": "code",
   "execution_count": 10,
   "id": "9028da14-2d9b-4c22-8ca7-6be444fd37a9",
   "metadata": {},
   "outputs": [
    {
     "data": {
      "text/plain": [
       "torch.Size([1, 201, 81])"
      ]
     },
     "execution_count": 10,
     "metadata": {},
     "output_type": "execute_result"
    }
   ],
   "source": [
    "spec.shape"
   ]
  },
  {
   "cell_type": "code",
   "execution_count": 11,
   "id": "2b498f3f-8839-411c-9d51-e61e1c379662",
   "metadata": {},
   "outputs": [
    {
     "name": "stderr",
     "output_type": "stream",
     "text": [
      "/home/todsavadt/.local/lib/python3.10/site-packages/torchaudio/functional/functional.py:584: UserWarning: At least one mel filterbank has all zero values. The value for `n_mels` (128) may be set too high. Or, the value for `n_freqs` (201) may be set too low.\n",
      "  warnings.warn(\n"
     ]
    },
    {
     "data": {
      "image/png": "[encoded data removed]",
      "text/plain": [
       "<Figure size 1000x500 with 2 Axes>"
      ]
     },
     "metadata": {},
     "output_type": "display_data"
    }
   ],
   "source": [
    "### 2. Compute and plot a Mel-scale Spectrogram\n",
    "# The Mel-scale spectrogram maps frequencies to the Mel scale, \n",
    "# which better approximates the human ear's response to different frequencies.\n",
    "mel_spec_transform = torchaudio.transforms.MelSpectrogram()\n",
    "mel_spec = mel_spec_transform(wave)\n",
    "\n",
    "plt.figure(figsize=(10, 5))\n",
    "plt.imshow(mel_spec[0, :, :].numpy(), origin='lower', aspect='auto')\n",
    "plt.title(\"Mel-scale Spectrogram\")\n",
    "plt.xlabel(\"Time\")\n",
    "plt.ylabel(\"Mel Frequency\")\n",
    "plt.colorbar()\n",
    "plt.show()"
   ]
  },
  {
   "cell_type": "code",
   "execution_count": 12,
   "id": "98070e33-ff46-45d9-a24d-3160757b9d3f",
   "metadata": {},
   "outputs": [
    {
     "data": {
      "text/plain": [
       "torch.Size([1, 128, 81])"
      ]
     },
     "execution_count": 12,
     "metadata": {},
     "output_type": "execute_result"
    }
   ],
   "source": [
    "mel_spec.shape"
   ]
  },
  {
   "cell_type": "code",
   "execution_count": 13,
   "id": "1e2fd7fc-c24d-4f57-afb8-9a567de4396d",
   "metadata": {},
   "outputs": [
    {
     "data": {
      "image/png": "[encoded data removed]",
      "text/plain": [
       "<Figure size 1000x500 with 2 Axes>"
      ]
     },
     "metadata": {},
     "output_type": "display_data"
    }
   ],
   "source": [
    "### 3. Compute and plot MFCC (Mel Frequency Cepstral Coefficients)\n",
    "# MFCCs provide a compact representation of the spectral envelope,\n",
    "# which is useful in many audio processing and speech recognition tasks.\n",
    "mfcc_transform = torchaudio.transforms.MFCC()\n",
    "mfcc = mfcc_transform(wave)\n",
    "\n",
    "plt.figure(figsize=(10, 5))\n",
    "plt.imshow(mfcc[0, :, :].numpy(), origin='lower', aspect='auto')\n",
    "plt.title(\"MFCC\")\n",
    "plt.xlabel(\"Time\")\n",
    "plt.ylabel(\"MFCC Coefficient\")\n",
    "plt.colorbar()\n",
    "plt.show()"
   ]
  },
  {
   "cell_type": "code",
   "execution_count": 14,
   "id": "25b5d913-c18e-4437-b376-c00549825d0a",
   "metadata": {},
   "outputs": [
    {
     "data": {
      "text/plain": [
       "torch.Size([1, 40, 81])"
      ]
     },
     "execution_count": 14,
     "metadata": {},
     "output_type": "execute_result"
    }
   ],
   "source": [
    "mfcc.shape"
   ]
  },
  {
   "cell_type": "markdown",
   "id": "8108ee03-06fa-4360-bc94-6a0f37d6089d",
   "metadata": {},
   "source": [
    "## Which one is the best\n",
    "\n",
    "There isn’t a one-size-fits-all “best” representation—it all depends on your application and what aspects of the audio signal you need to capture. Here’s a quick breakdown:\n",
    "\n",
    "- **Spectrogram (Linear Scale):**  \n",
    "  Provides a full view of frequency content. It’s useful when you want all the details of the signal’s frequency structure. However, its representation might include information that’s not perceptually relevant for human hearing.\n",
    "\n",
    "- **Mel-scale Spectrogram:**  \n",
    "  Maps the frequencies to the Mel scale, which better reflects how humans perceive sound. This representation emphasizes lower frequencies (which are generally more important for speech and music) and is often used in tasks like music analysis or when a perceptually-relevant view of the spectrum is needed.\n",
    "\n",
    "- **MFCC (Mel Frequency Cepstral Coefficients):**  \n",
    "  These are a compact representation that summarizes the spectral envelope of the audio. MFCCs have historically been popular in speech recognition because they capture the timbral aspects of sound effectively while reducing the dimensionality of the data.\n",
    "\n",
    "### Which One Should You Use?\n",
    "\n",
    "- **For Speech Recognition:**  \n",
    "  MFCCs have been widely used because they capture the most relevant features of speech in a compact form. However, many modern deep learning approaches now use Mel spectrograms or even raw waveforms.\n",
    "\n",
    "- **For Music Analysis or Tasks Requiring Detailed Frequency Information:**  \n",
    "  A Mel-scale spectrogram may be more suitable as it provides a balance between detailed frequency information and human perceptual relevance.\n",
    "\n",
    "- **For General Audio Analysis:**  \n",
    "  A full spectrogram might be beneficial if you need all available frequency details, though it might require additional processing to focus on perceptually important features.\n",
    "\n",
    "Ultimately, the “best” method depends on the specific requirements of your task, including factors like the type of audio, computational resources, and the performance of your downstream model or analysis."
   ]
  },
  {
   "cell_type": "markdown",
   "id": "8bf06cef-27ff-412b-bf11-4f3567f0e090",
   "metadata": {},
   "source": [
    "## Dataloader"
   ]
  },
  {
   "cell_type": "code",
   "execution_count": 16,
   "id": "47a7628d-02cd-42f9-9d69-f922fec7a31a",
   "metadata": {},
   "outputs": [],
   "source": [
    "# Define the custom Dataset for handling audio and labels\n",
    "class SpeechCommandsDataset(Dataset):\n",
    "    def __init__(self, dataset, transform=None):\n",
    "        self.dataset = dataset\n",
    "        self.transform = transform\n",
    "        self.class_names = sorted(set(item[2] for item in dataset))  # unique labels\n",
    "\n",
    "    def __len__(self):\n",
    "        return len(self.dataset)\n",
    "\n",
    "    def __getitem__(self, index):\n",
    "        waveform, sample_rate, label, _, _ = self.dataset[index]\n",
    "        \n",
    "        # Move the waveform to the same device as the transform\n",
    "        waveform = waveform.to(device)\n",
    "        \n",
    "        # Apply the Mel Spectrogram transform\n",
    "        if self.transform:\n",
    "            waveform = self.transform(waveform)\n",
    "        \n",
    "        # Convert the label to an integer (class index)\n",
    "        label_idx = self.class_names.index(label)\n",
    "\n",
    "        return waveform, label_idx\n",
    "\n",
    "# Define the MelSpectrogram transform\n",
    "# transform = T.MelSpectrogram(sample_rate=16000, n_mels=64).to(device)\n",
    "transform = T.MFCC(sample_rate=16000, n_mfcc=64).to(device)\n",
    "\n",
    "# Create the custom dataset with Mel Spectrogram transform\n",
    "raw_dataset = SpeechCommandsDataset(dataset, transform=transform)\n",
    "\n",
    "# Split the dataset into training and test sets\n",
    "traindata, testdata = random_split(raw_dataset, [round(len(raw_dataset) * 0.8), round(len(raw_dataset) * 0.2)])"
   ]
  },
  {
   "cell_type": "code",
   "execution_count": 17,
   "id": "092d5e31-41f4-4d98-a6bc-75bc24c02d4f",
   "metadata": {},
   "outputs": [],
   "source": [
    "import torch.nn.functional as F\n",
    "\n",
    "def pad_collate_fn(batch):\n",
    "    \"\"\"\n",
    "    Pads each Mel spectrogram in the batch to the maximum time dimension.\n",
    "    \n",
    "    Args:\n",
    "        batch: List of tuples (mel_spectrogram, label)\n",
    "    Returns:\n",
    "        Tuple (padded_mel_batch, labels)\n",
    "    \"\"\"\n",
    "    # Get maximum time dimension length in the batch\n",
    "    max_len = max(item[0].shape[-1] for item in batch)\n",
    "    \n",
    "    padded_mels = []\n",
    "    labels = []\n",
    "    for mel, label in batch:\n",
    "        # Calculate padding length (pad on the right)\n",
    "        pad_length = max_len - mel.shape[-1]\n",
    "        # Pad the time dimension (last dimension)\n",
    "        mel_padded = F.pad(mel, (0, pad_length))  # (pad_left, pad_right)\n",
    "        padded_mels.append(mel_padded)\n",
    "        labels.append(label)\n",
    "    \n",
    "    # Stack padded tensors into a single batch tensor\n",
    "    padded_mels = torch.stack(padded_mels)\n",
    "    labels = torch.tensor(labels)\n",
    "    \n",
    "    return padded_mels, labels"
   ]
  },
  {
   "cell_type": "code",
   "execution_count": 18,
   "id": "6c15a1fa-c8fa-49df-85b1-c1c234b9e641",
   "metadata": {},
   "outputs": [],
   "source": [
    "train_loader = DataLoader(\n",
    "    traindata, \n",
    "    batch_size=128, \n",
    "    shuffle=True,\n",
    "    collate_fn=pad_collate_fn\n",
    ")\n",
    "test_loader = DataLoader(\n",
    "    testdata,  \n",
    "    batch_size=128, \n",
    "    shuffle=False,\n",
    "    collate_fn=pad_collate_fn\n",
    ")"
   ]
  },
  {
   "cell_type": "code",
   "execution_count": 21,
   "id": "4cf20835-5872-4d4e-a4fd-fd8ec800ff44",
   "metadata": {},
   "outputs": [],
   "source": [
    "for waveform, out_label in train_loader:\n",
    "    break"
   ]
  },
  {
   "cell_type": "code",
   "execution_count": 22,
   "id": "6f986265-e086-4298-8c70-63474de14f85",
   "metadata": {},
   "outputs": [
    {
     "data": {
      "text/plain": [
       "(torch.Size([128, 1, 64, 81]), torch.Size([128]))"
      ]
     },
     "execution_count": 22,
     "metadata": {},
     "output_type": "execute_result"
    }
   ],
   "source": [
    "waveform.shape, out_label.shape"
   ]
  },
  {
   "cell_type": "markdown",
   "id": "ad5cf6b4-6625-4b55-b0c8-c3378ba2ef30",
   "metadata": {},
   "source": [
    "## Model"
   ]
  },
  {
   "cell_type": "code",
   "execution_count": 24,
   "id": "482d5ee5-6e88-4ec4-a2a8-ed03919a9fe9",
   "metadata": {},
   "outputs": [
    {
     "data": {
      "text/plain": [
       "KeywordSpottingModel(\n",
       "  (conv1): Conv2d(1, 16, kernel_size=(3, 3), stride=(1, 1), padding=(1, 1))\n",
       "  (bn1): BatchNorm2d(16, eps=1e-05, momentum=0.1, affine=True, track_running_stats=True)\n",
       "  (conv2): Conv2d(16, 32, kernel_size=(3, 3), stride=(1, 1), padding=(1, 1))\n",
       "  (bn2): BatchNorm2d(32, eps=1e-05, momentum=0.1, affine=True, track_running_stats=True)\n",
       "  (conv3): Conv2d(32, 64, kernel_size=(3, 3), stride=(1, 1), padding=(1, 1))\n",
       "  (bn3): BatchNorm2d(64, eps=1e-05, momentum=0.1, affine=True, track_running_stats=True)\n",
       "  (pool): MaxPool2d(kernel_size=2, stride=2, padding=0, dilation=1, ceil_mode=False)\n",
       "  (adaptive_pool): AdaptiveAvgPool2d(output_size=(1, 1))\n",
       "  (dropout): Dropout(p=0.3, inplace=False)\n",
       "  (fc): Linear(in_features=64, out_features=35, bias=True)\n",
       ")"
      ]
     },
     "execution_count": 24,
     "metadata": {},
     "output_type": "execute_result"
    }
   ],
   "source": [
    "class KeywordSpottingModel(nn.Module):\n",
    "    def __init__(self, num_classes):\n",
    "        super(KeywordSpottingModel, self).__init__()\n",
    "        # Convolutional block 1\n",
    "        self.conv1 = nn.Conv2d(1, 16, kernel_size=3, stride=1, padding=1)\n",
    "        self.bn1   = nn.BatchNorm2d(16)\n",
    "        # Convolutional block 2\n",
    "        self.conv2 = nn.Conv2d(16, 32, kernel_size=3, stride=1, padding=1)\n",
    "        self.bn2   = nn.BatchNorm2d(32)\n",
    "        # Convolutional block 3\n",
    "        self.conv3 = nn.Conv2d(32, 64, kernel_size=3, stride=1, padding=1)\n",
    "        self.bn3   = nn.BatchNorm2d(64)\n",
    "        \n",
    "        # Pooling layers (using max pooling to reduce spatial dimensions)\n",
    "        self.pool  = nn.MaxPool2d(kernel_size=2, stride=2)\n",
    "        \n",
    "        # Adaptive pooling to obtain a fixed-size output regardless of T dimension\n",
    "        self.adaptive_pool = nn.AdaptiveAvgPool2d((1, 1))\n",
    "        \n",
    "        # Dropout layer for regularization\n",
    "        self.dropout = nn.Dropout(0.3)\n",
    "        \n",
    "        # Final fully-connected layer for classification\n",
    "        self.fc = nn.Linear(64, num_classes)\n",
    "    \n",
    "    def forward(self, x):\n",
    "        # Input x shape: [batch_size, 1, 64, T]\n",
    "        x = self.pool(F.relu(self.bn1(self.conv1(x))))  # shape: [B, 16, 32, T/2]\n",
    "        x = self.pool(F.relu(self.bn2(self.conv2(x))))  # shape: [B, 32, 16, T/4]\n",
    "        x = self.pool(F.relu(self.bn3(self.conv3(x))))  # shape: [B, 64, 8, T/8]\n",
    "        x = self.adaptive_pool(x)  # shape: [B, 64, 1, 1]\n",
    "        x = x.view(x.size(0), -1)  # flatten to [B, 64]\n",
    "        x = self.dropout(x)\n",
    "        x = self.fc(x)  # shape: [B, num_classes]\n",
    "        return x\n",
    "\n",
    "# Example usage:\n",
    "# Assume `raw_dataset` is the instance of SpeechCommandsDataset.\n",
    "# Get the number of classes from your dataset:\n",
    "num_classes = len(raw_dataset.class_names)\n",
    "model = KeywordSpottingModel(num_classes=num_classes)\n",
    "model.to(device)"
   ]
  },
  {
   "cell_type": "code",
   "execution_count": 25,
   "id": "9ddd0afd-d9f1-401d-bbf1-01aec8039892",
   "metadata": {},
   "outputs": [
    {
     "name": "stdout",
     "output_type": "stream",
     "text": [
      "Number of parameters: 25795\n"
     ]
    }
   ],
   "source": [
    "n = sum(p.numel() for p in model.parameters() if p.requires_grad)\n",
    "print(f\"Number of parameters: {n}\")"
   ]
  },
  {
   "cell_type": "code",
   "execution_count": 26,
   "id": "2828153a-e257-4f81-a9ca-0d414f0ceb65",
   "metadata": {},
   "outputs": [
    {
     "name": "stdout",
     "output_type": "stream",
     "text": [
      "Output shape: torch.Size([128, 35])\n"
     ]
    }
   ],
   "source": [
    "# Testing the model with a dummy batch from your DataLoader:\n",
    "for mel_batch, labels in train_loader:\n",
    "    # mel_batch has shape [B, 1, 64, T]\n",
    "    outputs = model(mel_batch)\n",
    "    print(\"Output shape:\", outputs.shape)  # Should be [B, num_classes]\n",
    "    break"
   ]
  },
  {
   "cell_type": "markdown",
   "id": "f9568413-7b10-4bc6-b194-ccd201ca13f6",
   "metadata": {},
   "source": [
    "## Train & Test"
   ]
  },
  {
   "cell_type": "code",
   "execution_count": 27,
   "id": "0d3baeae-6d94-4ddc-a574-8c6641689bb8",
   "metadata": {},
   "outputs": [],
   "source": [
    "from torch.optim.lr_scheduler import ReduceLROnPlateau\n",
    "\n",
    "criterion = nn.CrossEntropyLoss()\n",
    "optimizer = optim.Adam(model.parameters(), lr=0.0005, weight_decay=0.0001)\n",
    "\n",
    "# Initialize ReduceLROnPlateau\n",
    "# mode='min' because we're monitoring loss, factor=0.1 reduces LR by a factor of 10,\n",
    "# patience=5 means wait for 5 epochs with no improvement before reducing the LR.\n",
    "# scheduler = ReduceLROnPlateau(optimizer, mode='min', factor=0.1, patience=5, verbose=True)\n",
    "\n",
    "# reduce the learning after 20 epochs by a factor of 10"
   ]
  },
  {
   "cell_type": "code",
   "execution_count": 28,
   "id": "738c07a7-c353-4c8d-b900-324c7122a0b6",
   "metadata": {},
   "outputs": [],
   "source": [
    "def number_of_correct(pred, target):\n",
    "    # count number of correct predictions\n",
    "    return pred.squeeze().eq(target).sum().item()\n",
    "\n",
    "def get_likely_index(tensor):\n",
    "    # find most likely label index for each element in the batch\n",
    "    return tensor.argmax(dim=-1)"
   ]
  },
  {
   "cell_type": "code",
   "execution_count": 29,
   "id": "ec29b0f2-8037-4a2d-b196-1ba2f4c656ef",
   "metadata": {},
   "outputs": [],
   "source": [
    "losses = [] \n",
    "def train(model, train_loader, optim, criterion, epoch, device):\n",
    "    print(\"Training\")\n",
    "    model.train()\n",
    "    train_loss = 0\n",
    "    total = 0\n",
    "    total_correct = 0\n",
    "    \n",
    "    for inputs, targets in tqdm(train_loader):\n",
    "        inputs, targets = inputs.to(device), targets.to(device)\n",
    "        \n",
    "        optim.zero_grad()\n",
    "        outputs = model(inputs)\n",
    "        loss = criterion(outputs,targets)\n",
    "        loss.backward()\n",
    "        optim.step()\n",
    "        \n",
    "        train_loss += loss.item()\n",
    "        # record loss\n",
    "        losses.append(loss.item())\n",
    "        _, predicted = torch.max(outputs.data,1)\n",
    "        total_correct += (predicted == targets).sum().item()\n",
    "        total += targets.size(0)\n",
    "        \n",
    "    # scheduler.step()\n",
    "    print(\"Loss: {:.2f} Accuracy: {:.2f}\".format(train_loss/len(train_loader), total_correct*100/total))"
   ]
  },
  {
   "cell_type": "code",
   "execution_count": 30,
   "id": "238b59ec-176d-436a-8802-620418e7b74a",
   "metadata": {},
   "outputs": [],
   "source": [
    "def test(model, test_loader, optim, criterion, epoch, device, model_name=\"weight\"):\n",
    "    global best_acc\n",
    "    print(\"validation\")\n",
    "    model.eval()\n",
    "    test_loss, total, total_correct = 0,0,0\n",
    "    \n",
    "    for inputs, targets in tqdm(test_loader):\n",
    "        inputs, targets = inputs.to(device), targets.to(device)\n",
    "        outputs = model(inputs)\n",
    "        loss = criterion(outputs, targets)\n",
    "\n",
    "        test_loss += loss.item()\n",
    "        _, predicted = torch.max(outputs.data, 1)\n",
    "        total += targets.size(0)\n",
    "        total_correct += (predicted == targets).sum().item()\n",
    "\n",
    "    # Save checkpoint when best model\n",
    "    acc = 100. * total_correct / total\n",
    "    print(\"Loss: %.4f Acc@1: %.2f%%\" %(test_loss/len(test_loader), acc))\n",
    "    \n",
    "    if acc > best_acc:\n",
    "        if isinstance(model, torch.nn.DataParallel):\n",
    "            # print(\"multiple GPU\")\n",
    "            # print('Saving Best model...\\t\\t\\tTop1 = %.2f%%' %(acc))\n",
    "            state = {\n",
    "                'model':model.module.state_dict(),\n",
    "                'model1': model.state_dict(),\n",
    "                'model2': model,\n",
    "                'acc':acc,\n",
    "                'epoch':epoch,\n",
    "            }\n",
    "        \n",
    "        else:\n",
    "            # print(\"not multiple GPU\")\n",
    "            state = {\n",
    "                    'model':model,\n",
    "                    'acc':acc,\n",
    "                    'epoch':epoch,\n",
    "                    }      \n",
    "        if not os.path.isdir('checkpoint'):\n",
    "            os.mkdir('checkpoint')\n",
    "        save_point = './checkpoint/'\n",
    "        if not os.path.isdir(save_point):\n",
    "            os.mkdir(save_point)\n",
    "        torch.save(state, save_point + model_name+'.t7')\n",
    "        best_acc = acc\n",
    "        \n",
    "    return best_acc"
   ]
  },
  {
   "cell_type": "code",
   "execution_count": 31,
   "id": "fc9d19a3-6263-4ba1-b382-e3d56e2d8999",
   "metadata": {
    "scrolled": true
   },
   "outputs": [
    {
     "name": "stdout",
     "output_type": "stream",
     "text": [
      "Epoch: 1\n",
      "Training\n"
     ]
    },
    {
     "name": "stderr",
     "output_type": "stream",
     "text": [
      "100%|██████████| 662/662 [01:06<00:00,  9.96it/s]\n"
     ]
    },
    {
     "name": "stdout",
     "output_type": "stream",
     "text": [
      "Loss: 3.04 Accuracy: 18.93\n",
      "validation\n"
     ]
    },
    {
     "name": "stderr",
     "output_type": "stream",
     "text": [
      "100%|██████████| 166/166 [00:16<00:00, 10.20it/s]\n"
     ]
    },
    {
     "name": "stdout",
     "output_type": "stream",
     "text": [
      "Loss: 2.5566 Acc@1: 38.60%\n",
      "Epoch: 2\n",
      "Training\n"
     ]
    },
    {
     "name": "stderr",
     "output_type": "stream",
     "text": [
      "100%|██████████| 662/662 [01:06<00:00,  9.91it/s]\n"
     ]
    },
    {
     "name": "stdout",
     "output_type": "stream",
     "text": [
      "Loss: 2.30 Accuracy: 38.52\n",
      "validation\n"
     ]
    },
    {
     "name": "stderr",
     "output_type": "stream",
     "text": [
      "100%|██████████| 166/166 [00:15<00:00, 10.40it/s]\n"
     ]
    },
    {
     "name": "stdout",
     "output_type": "stream",
     "text": [
      "Loss: 1.9136 Acc@1: 54.39%\n",
      "Epoch: 3\n",
      "Training\n"
     ]
    },
    {
     "name": "stderr",
     "output_type": "stream",
     "text": [
      "100%|██████████| 662/662 [01:07<00:00,  9.84it/s]\n"
     ]
    },
    {
     "name": "stdout",
     "output_type": "stream",
     "text": [
      "Loss: 1.83 Accuracy: 50.46\n",
      "validation\n"
     ]
    },
    {
     "name": "stderr",
     "output_type": "stream",
     "text": [
      "100%|██████████| 166/166 [00:15<00:00, 10.47it/s]\n"
     ]
    },
    {
     "name": "stdout",
     "output_type": "stream",
     "text": [
      "Loss: 1.5612 Acc@1: 59.85%\n",
      "Epoch: 4\n",
      "Training\n"
     ]
    },
    {
     "name": "stderr",
     "output_type": "stream",
     "text": [
      "100%|██████████| 662/662 [01:07<00:00,  9.79it/s]\n"
     ]
    },
    {
     "name": "stdout",
     "output_type": "stream",
     "text": [
      "Loss: 1.56 Accuracy: 57.08\n",
      "validation\n"
     ]
    },
    {
     "name": "stderr",
     "output_type": "stream",
     "text": [
      "100%|██████████| 166/166 [00:16<00:00, 10.16it/s]\n"
     ]
    },
    {
     "name": "stdout",
     "output_type": "stream",
     "text": [
      "Loss: 1.3049 Acc@1: 67.64%\n",
      "Epoch: 5\n",
      "Training\n"
     ]
    },
    {
     "name": "stderr",
     "output_type": "stream",
     "text": [
      "100%|██████████| 662/662 [01:07<00:00,  9.86it/s]\n"
     ]
    },
    {
     "name": "stdout",
     "output_type": "stream",
     "text": [
      "Loss: 1.38 Accuracy: 61.92\n",
      "validation\n"
     ]
    },
    {
     "name": "stderr",
     "output_type": "stream",
     "text": [
      "100%|██████████| 166/166 [00:15<00:00, 10.41it/s]\n"
     ]
    },
    {
     "name": "stdout",
     "output_type": "stream",
     "text": [
      "Loss: 1.1235 Acc@1: 72.12%\n",
      "Epoch: 6\n",
      "Training\n"
     ]
    },
    {
     "name": "stderr",
     "output_type": "stream",
     "text": [
      "100%|██████████| 662/662 [01:07<00:00,  9.85it/s]\n"
     ]
    },
    {
     "name": "stdout",
     "output_type": "stream",
     "text": [
      "Loss: 1.26 Accuracy: 64.80\n",
      "validation\n"
     ]
    },
    {
     "name": "stderr",
     "output_type": "stream",
     "text": [
      "100%|██████████| 166/166 [00:15<00:00, 10.57it/s]\n"
     ]
    },
    {
     "name": "stdout",
     "output_type": "stream",
     "text": [
      "Loss: 1.0773 Acc@1: 71.53%\n",
      "Epoch: 7\n",
      "Training\n"
     ]
    },
    {
     "name": "stderr",
     "output_type": "stream",
     "text": [
      "100%|██████████| 662/662 [01:06<00:00,  9.89it/s]\n"
     ]
    },
    {
     "name": "stdout",
     "output_type": "stream",
     "text": [
      "Loss: 1.16 Accuracy: 67.13\n",
      "validation\n"
     ]
    },
    {
     "name": "stderr",
     "output_type": "stream",
     "text": [
      "100%|██████████| 166/166 [00:16<00:00, 10.24it/s]\n"
     ]
    },
    {
     "name": "stdout",
     "output_type": "stream",
     "text": [
      "Loss: 0.9862 Acc@1: 73.33%\n",
      "Epoch: 8\n",
      "Training\n"
     ]
    },
    {
     "name": "stderr",
     "output_type": "stream",
     "text": [
      "100%|██████████| 662/662 [01:06<00:00, 10.02it/s]\n"
     ]
    },
    {
     "name": "stdout",
     "output_type": "stream",
     "text": [
      "Loss: 1.09 Accuracy: 69.17\n",
      "validation\n"
     ]
    },
    {
     "name": "stderr",
     "output_type": "stream",
     "text": [
      "100%|██████████| 166/166 [00:16<00:00, 10.16it/s]\n"
     ]
    },
    {
     "name": "stdout",
     "output_type": "stream",
     "text": [
      "Loss: 0.9580 Acc@1: 74.59%\n",
      "Epoch: 9\n",
      "Training\n"
     ]
    },
    {
     "name": "stderr",
     "output_type": "stream",
     "text": [
      "100%|██████████| 662/662 [01:06<00:00,  9.95it/s]\n"
     ]
    },
    {
     "name": "stdout",
     "output_type": "stream",
     "text": [
      "Loss: 1.04 Accuracy: 70.62\n",
      "validation\n"
     ]
    },
    {
     "name": "stderr",
     "output_type": "stream",
     "text": [
      "100%|██████████| 166/166 [00:16<00:00, 10.16it/s]\n"
     ]
    },
    {
     "name": "stdout",
     "output_type": "stream",
     "text": [
      "Loss: 0.8746 Acc@1: 77.08%\n",
      "Epoch: 10\n",
      "Training\n"
     ]
    },
    {
     "name": "stderr",
     "output_type": "stream",
     "text": [
      "100%|██████████| 662/662 [01:07<00:00,  9.87it/s]\n"
     ]
    },
    {
     "name": "stdout",
     "output_type": "stream",
     "text": [
      "Loss: 0.99 Accuracy: 71.85\n",
      "validation\n"
     ]
    },
    {
     "name": "stderr",
     "output_type": "stream",
     "text": [
      "100%|██████████| 166/166 [00:16<00:00, 10.32it/s]\n"
     ]
    },
    {
     "name": "stdout",
     "output_type": "stream",
     "text": [
      "Loss: 0.8244 Acc@1: 77.83%\n",
      "Epoch: 11\n",
      "Training\n"
     ]
    },
    {
     "name": "stderr",
     "output_type": "stream",
     "text": [
      "100%|██████████| 662/662 [01:07<00:00,  9.88it/s]\n"
     ]
    },
    {
     "name": "stdout",
     "output_type": "stream",
     "text": [
      "Loss: 0.95 Accuracy: 72.71\n",
      "validation\n"
     ]
    },
    {
     "name": "stderr",
     "output_type": "stream",
     "text": [
      "100%|██████████| 166/166 [00:15<00:00, 10.46it/s]\n"
     ]
    },
    {
     "name": "stdout",
     "output_type": "stream",
     "text": [
      "Loss: 0.8017 Acc@1: 79.04%\n",
      "Epoch: 12\n",
      "Training\n"
     ]
    },
    {
     "name": "stderr",
     "output_type": "stream",
     "text": [
      "100%|██████████| 662/662 [01:07<00:00,  9.85it/s]\n"
     ]
    },
    {
     "name": "stdout",
     "output_type": "stream",
     "text": [
      "Loss: 0.92 Accuracy: 73.76\n",
      "validation\n"
     ]
    },
    {
     "name": "stderr",
     "output_type": "stream",
     "text": [
      "100%|██████████| 166/166 [00:16<00:00, 10.24it/s]\n"
     ]
    },
    {
     "name": "stdout",
     "output_type": "stream",
     "text": [
      "Loss: 0.7486 Acc@1: 79.96%\n",
      "Epoch: 13\n",
      "Training\n"
     ]
    },
    {
     "name": "stderr",
     "output_type": "stream",
     "text": [
      "100%|██████████| 662/662 [01:07<00:00,  9.84it/s]\n"
     ]
    },
    {
     "name": "stdout",
     "output_type": "stream",
     "text": [
      "Loss: 0.89 Accuracy: 74.62\n",
      "validation\n"
     ]
    },
    {
     "name": "stderr",
     "output_type": "stream",
     "text": [
      "100%|██████████| 166/166 [00:15<00:00, 10.68it/s]\n"
     ]
    },
    {
     "name": "stdout",
     "output_type": "stream",
     "text": [
      "Loss: 0.6931 Acc@1: 81.66%\n",
      "Epoch: 14\n",
      "Training\n"
     ]
    },
    {
     "name": "stderr",
     "output_type": "stream",
     "text": [
      "100%|██████████| 662/662 [01:07<00:00,  9.87it/s]\n"
     ]
    },
    {
     "name": "stdout",
     "output_type": "stream",
     "text": [
      "Loss: 0.86 Accuracy: 75.46\n",
      "validation\n"
     ]
    },
    {
     "name": "stderr",
     "output_type": "stream",
     "text": [
      "100%|██████████| 166/166 [00:15<00:00, 10.67it/s]\n"
     ]
    },
    {
     "name": "stdout",
     "output_type": "stream",
     "text": [
      "Loss: 0.7125 Acc@1: 81.21%\n",
      "Epoch: 15\n",
      "Training\n"
     ]
    },
    {
     "name": "stderr",
     "output_type": "stream",
     "text": [
      "100%|██████████| 662/662 [01:07<00:00,  9.85it/s]\n"
     ]
    },
    {
     "name": "stdout",
     "output_type": "stream",
     "text": [
      "Loss: 0.84 Accuracy: 75.91\n",
      "validation\n"
     ]
    },
    {
     "name": "stderr",
     "output_type": "stream",
     "text": [
      "100%|██████████| 166/166 [00:16<00:00, 10.29it/s]"
     ]
    },
    {
     "name": "stdout",
     "output_type": "stream",
     "text": [
      "Loss: 0.7088 Acc@1: 80.39%\n"
     ]
    },
    {
     "name": "stderr",
     "output_type": "stream",
     "text": [
      "\n"
     ]
    }
   ],
   "source": [
    "num_epochs = 15\n",
    "best_acc   = 0\n",
    "\n",
    "for epoch in range(0, num_epochs):\n",
    "    print(f\"Epoch: {epoch+1}\" )\n",
    "    train(model,train_loader, optimizer, criterion, epoch, device)\n",
    "    best_acc = test(model, test_loader, optimizer, criterion, epoch, device)"
   ]
  },
  {
   "cell_type": "markdown",
   "id": "db14e2b2-6fe2-4bc6-ad5f-9b18a4567147",
   "metadata": {},
   "source": [
    "## Plotting"
   ]
  },
  {
   "cell_type": "code",
   "execution_count": 32,
   "id": "7e1b1956-5f06-4e44-a3c8-b690331397c2",
   "metadata": {},
   "outputs": [
    {
     "data": {
      "image/png": "[encoded data removed]",
      "text/plain": [
       "<Figure size 640x480 with 1 Axes>"
      ]
     },
     "metadata": {},
     "output_type": "display_data"
    }
   ],
   "source": [
    "# # Let's plot the training loss versus the number of iteration.\n",
    "plt.plot(losses)\n",
    "plt.title(\"training loss\")"
   ]
  },
  {
   "cell_type": "code",
   "execution_count": 33,
   "id": "d99179ca-5234-4ca3-8562-6b47387be88b",
   "metadata": {},
   "outputs": [],
   "source": [
    "# # Load the best model checkpoint from the 'checkpoint' directory\n",
    "# checkpoint_path = './checkpoint/weight.t7'\n",
    "# checkpoint = torch.load(checkpoint_path, map_location=device)\n",
    "\n",
    "# # If you saved the model's state_dict under the key 'model'\n",
    "# model.load_state_dict(checkpoint['model'])"
   ]
  },
  {
   "cell_type": "markdown",
   "id": "31b6705a-634a-4af3-a3cc-ed4352e16fcc",
   "metadata": {},
   "source": [
    "## Inference"
   ]
  },
  {
   "cell_type": "code",
   "execution_count": 35,
   "id": "bbe0a626-34e0-46a4-8fdf-ed6c885dd3d4",
   "metadata": {},
   "outputs": [],
   "source": [
    "# --- Define Helper Functions for Prediction ---\n",
    "\n",
    "def get_likely_index(logits):\n",
    "    \"\"\"\n",
    "    Returns the index of the class with the highest logit.\n",
    "    \"\"\"\n",
    "    # logits is assumed to be of shape [1, num_classes]\n",
    "    return torch.argmax(logits, dim=1)\n",
    "\n",
    "def index_to_label(index):\n",
    "    \"\"\"\n",
    "    Converts a class index to its corresponding label string.\n",
    "    \"\"\"\n",
    "    # raw_dataset.class_names is assumed to be a list of labels\n",
    "    return raw_dataset.class_names[index.item()]\n",
    "\n",
    "def predict(tensor):\n",
    "    \"\"\"\n",
    "    Given a waveform tensor, this function passes it through the model\n",
    "    and returns the predicted label.\n",
    "    \"\"\"\n",
    "    # Ensure the tensor is on the correct device\n",
    "    tensor = tensor.to(device)\n",
    "    # Add a batch dimension (expected shape: [B, channels, n_mels, time])\n",
    "    tensor = transform(tensor)\n",
    "    tensor = tensor.unsqueeze(0)\n",
    "    # Pass the tensor through the model (assumes model is already defined and on device)\n",
    "    logits = model(tensor)\n",
    "    # Get the index with the highest score\n",
    "    predicted_index = get_likely_index(logits)\n",
    "    # Convert the index to a label string\n",
    "    predicted_label = index_to_label(predicted_index.squeeze())\n",
    "    return predicted_label\n",
    "\n",
    "# --- Example Usage of predict() ---\n",
    "# Retrieve a sample from the dataset. Note: Our custom dataset returns (waveform, label_idx)\n",
    "waveform_transform, label_idx = raw_dataset[2000]\n",
    "waveform, sample_rate, label, _ , _ = dataset[2000]\n",
    "# For display purposes, we want to know the expected word label.\n",
    "expected_label = raw_dataset.class_names[label_idx]"
   ]
  },
  {
   "cell_type": "code",
   "execution_count": 36,
   "id": "80a162d6-9d58-40ac-acc2-86098d6d6167",
   "metadata": {},
   "outputs": [
    {
     "data": {
      "text/html": [
       "\n",
       "                <audio  controls=\"controls\" >\n",
       "                    <source src=\"data:audio/wav;base64,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\" type=\"audio/wav\" />\n",
       "                    Your browser does not support the audio element.\n",
       "                </audio>\n",
       "              "
      ],
      "text/plain": [
       "<IPython.lib.display.Audio object>"
      ]
     },
     "execution_count": 36,
     "metadata": {},
     "output_type": "execute_result"
    }
   ],
   "source": [
    "# Play the audio sample. The waveform is a Mel Spectrogram here,\n",
    "# so if you want to hear the original waveform, use the original dataset instead.\n",
    "# Here, for demonstration, we assume the sample_rate is 16000.\n",
    "Audio(waveform.cpu().numpy(), rate=16000)"
   ]
  },
  {
   "cell_type": "code",
   "execution_count": 37,
   "id": "7844ad7a-3f39-4c47-95bc-b6f9ce7e5432",
   "metadata": {},
   "outputs": [
    {
     "name": "stdout",
     "output_type": "stream",
     "text": [
      "Expected: bed\n",
      "Predicted: bed\n"
     ]
    }
   ],
   "source": [
    "print(f\"Expected: {expected_label}\")\n",
    "print(f\"Predicted: {predict(waveform)}\")"
   ]
  },
  {
   "cell_type": "markdown",
   "id": "b7800d9e-93b7-446c-b9d8-4f8d55e27fb3",
   "metadata": {},
   "source": [
    "## Reference\n",
    "- https://medium.com/analytics-vidhya/understanding-the-mel-spectrogram-fca2afa2ce53\n",
    "- https://github.com/aminul-huq/Speech-Command-Classification"
   ]
  },
  {
   "cell_type": "code",
   "execution_count": null,
   "id": "ec308c13-c278-491b-8e20-533408681dbf",
   "metadata": {},
   "outputs": [],
   "source": []
  }
 ],
 "metadata": {
  "kernelspec": {
   "display_name": "Python 3 (ipykernel)",
   "language": "python",
   "name": "python3"
  },
  "language_info": {
   "codemirror_mode": {
    "name": "ipython",
    "version": 3
   },
   "file_extension": ".py",
   "mimetype": "text/x-python",
   "name": "python",
   "nbconvert_exporter": "python",
   "pygments_lexer": "ipython3",
   "version": "3.10.12"
  }
 },
 "nbformat": 4,
 "nbformat_minor": 5
}
